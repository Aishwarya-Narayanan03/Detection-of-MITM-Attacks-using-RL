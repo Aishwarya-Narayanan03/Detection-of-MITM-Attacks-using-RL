{
 "cells": [
  {
   "cell_type": "code",
   "execution_count": 1,
   "id": "aed48bbc",
   "metadata": {},
   "outputs": [
    {
     "name": "stdout",
     "output_type": "stream",
     "text": [
      "Requirement already satisfied: torch in c:\\users\\narayanan\\anaconda3\\lib\\site-packages (2.1.0)\n",
      "Requirement already satisfied: filelock in c:\\users\\narayanan\\anaconda3\\lib\\site-packages (from torch) (3.6.0)\n",
      "Requirement already satisfied: jinja2 in c:\\users\\narayanan\\anaconda3\\lib\\site-packages (from torch) (2.11.3)\n",
      "Requirement already satisfied: fsspec in c:\\users\\narayanan\\anaconda3\\lib\\site-packages (from torch) (2022.2.0)\n",
      "Requirement already satisfied: typing-extensions in c:\\users\\narayanan\\anaconda3\\lib\\site-packages (from torch) (4.8.0)\n",
      "Requirement already satisfied: networkx in c:\\users\\narayanan\\anaconda3\\lib\\site-packages (from torch) (2.7.1)\n",
      "Requirement already satisfied: sympy in c:\\users\\narayanan\\anaconda3\\lib\\site-packages (from torch) (1.10.1)\n",
      "Requirement already satisfied: MarkupSafe>=0.23 in c:\\users\\narayanan\\anaconda3\\lib\\site-packages (from jinja2->torch) (2.0.1)\n",
      "Requirement already satisfied: mpmath>=0.19 in c:\\users\\narayanan\\anaconda3\\lib\\site-packages (from sympy->torch) (1.2.1)\n",
      "Requirement already satisfied: pandas in c:\\users\\narayanan\\anaconda3\\lib\\site-packages (1.4.2)\n",
      "Requirement already satisfied: python-dateutil>=2.8.1 in c:\\users\\narayanan\\anaconda3\\lib\\site-packages (from pandas) (2.8.2)\n",
      "Requirement already satisfied: pytz>=2020.1 in c:\\users\\narayanan\\anaconda3\\lib\\site-packages (from pandas) (2021.3)\n",
      "Requirement already satisfied: numpy>=1.18.5 in c:\\users\\narayanan\\anaconda3\\lib\\site-packages (from pandas) (1.22.4)\n",
      "Requirement already satisfied: six>=1.5 in c:\\users\\narayanan\\anaconda3\\lib\\site-packages (from python-dateutil>=2.8.1->pandas) (1.16.0)\n",
      "Requirement already satisfied: numpy in c:\\users\\narayanan\\anaconda3\\lib\\site-packages (1.22.4)\n",
      "Requirement already satisfied: matplotlib in c:\\users\\narayanan\\anaconda3\\lib\\site-packages (3.5.1)\n",
      "Requirement already satisfied: pyparsing>=2.2.1 in c:\\users\\narayanan\\anaconda3\\lib\\site-packages (from matplotlib) (3.0.4)\n",
      "Requirement already satisfied: python-dateutil>=2.7 in c:\\users\\narayanan\\anaconda3\\lib\\site-packages (from matplotlib) (2.8.2)\n",
      "Requirement already satisfied: cycler>=0.10 in c:\\users\\narayanan\\anaconda3\\lib\\site-packages (from matplotlib) (0.11.0)\n",
      "Requirement already satisfied: packaging>=20.0 in c:\\users\\narayanan\\anaconda3\\lib\\site-packages (from matplotlib) (21.3)\n",
      "Requirement already satisfied: kiwisolver>=1.0.1 in c:\\users\\narayanan\\anaconda3\\lib\\site-packages (from matplotlib) (1.3.2)\n",
      "Requirement already satisfied: fonttools>=4.22.0 in c:\\users\\narayanan\\anaconda3\\lib\\site-packages (from matplotlib) (4.25.0)\n",
      "Requirement already satisfied: pillow>=6.2.0 in c:\\users\\narayanan\\anaconda3\\lib\\site-packages (from matplotlib) (9.0.1)\n",
      "Requirement already satisfied: numpy>=1.17 in c:\\users\\narayanan\\anaconda3\\lib\\site-packages (from matplotlib) (1.22.4)\n",
      "Requirement already satisfied: six>=1.5 in c:\\users\\narayanan\\anaconda3\\lib\\site-packages (from python-dateutil>=2.7->matplotlib) (1.16.0)\n",
      "Requirement already satisfied: scikit-learn in c:\\users\\narayanan\\anaconda3\\lib\\site-packages (1.3.2)\n",
      "Requirement already satisfied: scipy>=1.5.0 in c:\\users\\narayanan\\anaconda3\\lib\\site-packages (from scikit-learn) (1.7.3)\n",
      "Requirement already satisfied: numpy<2.0,>=1.17.3 in c:\\users\\narayanan\\anaconda3\\lib\\site-packages (from scikit-learn) (1.22.4)\n",
      "Requirement already satisfied: threadpoolctl>=2.0.0 in c:\\users\\narayanan\\anaconda3\\lib\\site-packages (from scikit-learn) (2.2.0)\n",
      "Requirement already satisfied: joblib>=1.1.1 in c:\\users\\narayanan\\anaconda3\\lib\\site-packages (from scikit-learn) (1.3.2)\n"
     ]
    }
   ],
   "source": [
    "!pip install torch\n",
    "!pip install pandas\n",
    "!pip install numpy\n",
    "!pip install matplotlib\n",
    "!pip install scikit-learn\n",
    "\n"
   ]
  },
  {
   "cell_type": "code",
   "execution_count": 2,
   "id": "32d0973e",
   "metadata": {},
   "outputs": [],
   "source": [
    "import time\n",
    "import copy\n",
    "import numpy as np\n",
    "import pandas as pd\n",
    "import torch\n",
    "import torch.nn as nn\n",
    "from torch.autograd import Variable\n",
    "import torch.optim as optim\n",
    "import torch.nn.functional as F\n",
    "from sklearn.utils import shuffle\n",
    "from sklearn import metrics"
   ]
  },
  {
   "cell_type": "code",
   "execution_count": 3,
   "id": "46eb2989",
   "metadata": {},
   "outputs": [
    {
     "data": {
      "text/html": [
       "<div>\n",
       "<style scoped>\n",
       "    .dataframe tbody tr th:only-of-type {\n",
       "        vertical-align: middle;\n",
       "    }\n",
       "\n",
       "    .dataframe tbody tr th {\n",
       "        vertical-align: top;\n",
       "    }\n",
       "\n",
       "    .dataframe thead th {\n",
       "        text-align: right;\n",
       "    }\n",
       "</style>\n",
       "<table border=\"1\" class=\"dataframe\">\n",
       "  <thead>\n",
       "    <tr style=\"text-align: right;\">\n",
       "      <th></th>\n",
       "      <th>No.</th>\n",
       "      <th>Time</th>\n",
       "      <th>Source</th>\n",
       "      <th>Destination</th>\n",
       "      <th>Protocol</th>\n",
       "      <th>Length</th>\n",
       "      <th>Info</th>\n",
       "      <th>Label</th>\n",
       "    </tr>\n",
       "  </thead>\n",
       "  <tbody>\n",
       "    <tr>\n",
       "      <th>0</th>\n",
       "      <td>1</td>\n",
       "      <td>0.000000</td>\n",
       "      <td>10.0.2.15</td>\n",
       "      <td>34.120.115.102</td>\n",
       "      <td>TLSv1.2</td>\n",
       "      <td>93</td>\n",
       "      <td>Application Data</td>\n",
       "      <td>Benign</td>\n",
       "    </tr>\n",
       "    <tr>\n",
       "      <th>1</th>\n",
       "      <td>2</td>\n",
       "      <td>0.001295</td>\n",
       "      <td>34.120.115.102</td>\n",
       "      <td>10.0.2.15</td>\n",
       "      <td>TCP</td>\n",
       "      <td>60</td>\n",
       "      <td>443  &gt;  36940 [ACK] Seq=1 Ack=40 Win=65535 Len=0</td>\n",
       "      <td>Benign</td>\n",
       "    </tr>\n",
       "    <tr>\n",
       "      <th>2</th>\n",
       "      <td>3</td>\n",
       "      <td>0.002404</td>\n",
       "      <td>10.0.2.15</td>\n",
       "      <td>34.120.115.102</td>\n",
       "      <td>TLSv1.2</td>\n",
       "      <td>78</td>\n",
       "      <td>Application Data</td>\n",
       "      <td>Benign</td>\n",
       "    </tr>\n",
       "    <tr>\n",
       "      <th>3</th>\n",
       "      <td>4</td>\n",
       "      <td>0.003157</td>\n",
       "      <td>34.120.115.102</td>\n",
       "      <td>10.0.2.15</td>\n",
       "      <td>TCP</td>\n",
       "      <td>60</td>\n",
       "      <td>443  &gt;  36940 [ACK] Seq=1 Ack=64 Win=65535 Len=0</td>\n",
       "      <td>Benign</td>\n",
       "    </tr>\n",
       "    <tr>\n",
       "      <th>4</th>\n",
       "      <td>5</td>\n",
       "      <td>0.003963</td>\n",
       "      <td>10.0.2.15</td>\n",
       "      <td>34.120.115.102</td>\n",
       "      <td>TCP</td>\n",
       "      <td>54</td>\n",
       "      <td>36940  &gt;  443 [FIN, ACK] Seq=64 Ack=1 Win=6291...</td>\n",
       "      <td>Benign</td>\n",
       "    </tr>\n",
       "  </tbody>\n",
       "</table>\n",
       "</div>"
      ],
      "text/plain": [
       "   No.      Time          Source     Destination Protocol  Length  \\\n",
       "0    1  0.000000       10.0.2.15  34.120.115.102  TLSv1.2      93   \n",
       "1    2  0.001295  34.120.115.102       10.0.2.15      TCP      60   \n",
       "2    3  0.002404       10.0.2.15  34.120.115.102  TLSv1.2      78   \n",
       "3    4  0.003157  34.120.115.102       10.0.2.15      TCP      60   \n",
       "4    5  0.003963       10.0.2.15  34.120.115.102      TCP      54   \n",
       "\n",
       "                                                Info   Label  \n",
       "0                                   Application Data  Benign  \n",
       "1   443  >  36940 [ACK] Seq=1 Ack=40 Win=65535 Len=0  Benign  \n",
       "2                                   Application Data  Benign  \n",
       "3   443  >  36940 [ACK] Seq=1 Ack=64 Win=65535 Len=0  Benign  \n",
       "4  36940  >  443 [FIN, ACK] Seq=64 Ack=1 Win=6291...  Benign  "
      ]
     },
     "execution_count": 3,
     "metadata": {},
     "output_type": "execute_result"
    }
   ],
   "source": [
    "import pandas as pd\n",
    "username = 'Narayanan'\n",
    "file_path = f'C:/Users/{username}/Desktop/Engineering/7th SEM/Mini Project/Spoofing_Dataset.csv'\n",
    "\n",
    "df = pd.read_csv(file_path)\n",
    "\n",
    "df.head()"
   ]
  },
  {
   "cell_type": "code",
   "execution_count": 4,
   "id": "bedd3ee2",
   "metadata": {},
   "outputs": [
    {
     "data": {
      "text/plain": [
       "Benign        820\n",
       "Mallicious    380\n",
       "Name: Label, dtype: int64"
      ]
     },
     "execution_count": 4,
     "metadata": {},
     "output_type": "execute_result"
    }
   ],
   "source": [
    "df['Label'].value_counts()"
   ]
  },
  {
   "cell_type": "code",
   "execution_count": 5,
   "id": "559186d0",
   "metadata": {},
   "outputs": [],
   "source": [
    "from sklearn.model_selection import train_test_split"
   ]
  },
  {
   "cell_type": "code",
   "execution_count": 6,
   "id": "6d895e96",
   "metadata": {},
   "outputs": [
    {
     "name": "stdout",
     "output_type": "stream",
     "text": [
      "Training set shape - X: (960, 7) y: (960,)\n",
      "Testing set shape - X: (240, 7) y: (240,)\n"
     ]
    }
   ],
   "source": [
    "X = df.drop('Label', axis=1)  \n",
    "y = df['Label']  \n",
    "\n",
    "\n",
    "X_train, X_test, y_train, y_test = train_test_split(X, y, test_size=0.2, random_state=42)\n",
    "\n",
    "print(\"Training set shape - X:\", X_train.shape, \"y:\", y_train.shape)\n",
    "print(\"Testing set shape - X:\", X_test.shape, \"y:\", y_test.shape)\n"
   ]
  },
  {
   "cell_type": "code",
   "execution_count": 7,
   "id": "0eae84e9",
   "metadata": {},
   "outputs": [
    {
     "data": {
      "text/html": [
       "<div>\n",
       "<style scoped>\n",
       "    .dataframe tbody tr th:only-of-type {\n",
       "        vertical-align: middle;\n",
       "    }\n",
       "\n",
       "    .dataframe tbody tr th {\n",
       "        vertical-align: top;\n",
       "    }\n",
       "\n",
       "    .dataframe thead th {\n",
       "        text-align: right;\n",
       "    }\n",
       "</style>\n",
       "<table border=\"1\" class=\"dataframe\">\n",
       "  <thead>\n",
       "    <tr style=\"text-align: right;\">\n",
       "      <th></th>\n",
       "      <th>No.</th>\n",
       "      <th>Time</th>\n",
       "      <th>Length</th>\n",
       "    </tr>\n",
       "  </thead>\n",
       "  <tbody>\n",
       "    <tr>\n",
       "      <th>count</th>\n",
       "      <td>1200.000000</td>\n",
       "      <td>1200.000000</td>\n",
       "      <td>1200.000000</td>\n",
       "    </tr>\n",
       "    <tr>\n",
       "      <th>mean</th>\n",
       "      <td>600.500000</td>\n",
       "      <td>147.447252</td>\n",
       "      <td>170.908333</td>\n",
       "    </tr>\n",
       "    <tr>\n",
       "      <th>std</th>\n",
       "      <td>346.554469</td>\n",
       "      <td>80.628457</td>\n",
       "      <td>353.191565</td>\n",
       "    </tr>\n",
       "    <tr>\n",
       "      <th>min</th>\n",
       "      <td>1.000000</td>\n",
       "      <td>0.000000</td>\n",
       "      <td>42.000000</td>\n",
       "    </tr>\n",
       "    <tr>\n",
       "      <th>25%</th>\n",
       "      <td>300.750000</td>\n",
       "      <td>120.183378</td>\n",
       "      <td>42.000000</td>\n",
       "    </tr>\n",
       "    <tr>\n",
       "      <th>50%</th>\n",
       "      <td>600.500000</td>\n",
       "      <td>127.245265</td>\n",
       "      <td>54.000000</td>\n",
       "    </tr>\n",
       "    <tr>\n",
       "      <th>75%</th>\n",
       "      <td>900.250000</td>\n",
       "      <td>198.828472</td>\n",
       "      <td>76.500000</td>\n",
       "    </tr>\n",
       "    <tr>\n",
       "      <th>max</th>\n",
       "      <td>1200.000000</td>\n",
       "      <td>342.531264</td>\n",
       "      <td>1514.000000</td>\n",
       "    </tr>\n",
       "  </tbody>\n",
       "</table>\n",
       "</div>"
      ],
      "text/plain": [
       "               No.         Time       Length\n",
       "count  1200.000000  1200.000000  1200.000000\n",
       "mean    600.500000   147.447252   170.908333\n",
       "std     346.554469    80.628457   353.191565\n",
       "min       1.000000     0.000000    42.000000\n",
       "25%     300.750000   120.183378    42.000000\n",
       "50%     600.500000   127.245265    54.000000\n",
       "75%     900.250000   198.828472    76.500000\n",
       "max    1200.000000   342.531264  1514.000000"
      ]
     },
     "execution_count": 7,
     "metadata": {},
     "output_type": "execute_result"
    }
   ],
   "source": [
    "X.describe()"
   ]
  },
  {
   "cell_type": "code",
   "execution_count": 8,
   "id": "7b11f516",
   "metadata": {},
   "outputs": [
    {
     "name": "stdout",
     "output_type": "stream",
     "text": [
      "Cleaned and Preprocessed Dataset:\n",
      "   No.      Time          Source     Destination Protocol  Length  \\\n",
      "0    1  0.000000       10.0.2.15  34.120.115.102  TLSv1.2      93   \n",
      "1    2  0.001295  34.120.115.102       10.0.2.15      TCP      60   \n",
      "2    3  0.002404       10.0.2.15  34.120.115.102  TLSv1.2      78   \n",
      "3    4  0.003157  34.120.115.102       10.0.2.15      TCP      60   \n",
      "4    5  0.003963       10.0.2.15  34.120.115.102      TCP      54   \n",
      "\n",
      "                                                Info   Label  \n",
      "0                                   Application Data  Benign  \n",
      "1   443  >  36940 [ACK] Seq=1 Ack=40 Win=65535 Len=0  Benign  \n",
      "2                                   Application Data  Benign  \n",
      "3   443  >  36940 [ACK] Seq=1 Ack=64 Win=65535 Len=0  Benign  \n",
      "4  36940  >  443 [FIN, ACK] Seq=64 Ack=1 Win=6291...  Benign  \n"
     ]
    }
   ],
   "source": [
    "import pandas as pd\n",
    "from sklearn.model_selection import train_test_split\n",
    "from sklearn.preprocessing import StandardScaler, LabelEncoder, OneHotEncoder\n",
    "from sklearn.compose import ColumnTransformer\n",
    "\n",
    "\n",
    "\n",
    "target_variable = df['Label']\n",
    "\n",
    "\n",
    "feature_columns = df.drop('Label', axis=1)\n",
    "\n",
    "\n",
    "df_cleaned = df.dropna()\n",
    "\n",
    "\n",
    "categorical_cols = ['Source', 'Destination', 'Protocol']\n",
    "numerical_cols = ['Time', 'Length']\n",
    "\n",
    "\n",
    "preprocessor = ColumnTransformer(\n",
    "    transformers=[\n",
    "        ('num', StandardScaler(), numerical_cols),\n",
    "        ('cat', OneHotEncoder(), categorical_cols)\n",
    "    ]\n",
    ")\n",
    "\n",
    "\n",
    "X_train, X_test, y_train, y_test = train_test_split(\n",
    "    df_cleaned.drop('Label', axis=1),  \n",
    "    df_cleaned['Label'], \n",
    "    test_size=0.2,\n",
    "    random_state=42\n",
    ")\n",
    "\n",
    "\n",
    "X_train_processed = preprocessor.fit_transform(X_train)\n",
    "X_test_processed = preprocessor.transform(X_test)\n",
    "\n",
    "\n",
    "print(\"Cleaned and Preprocessed Dataset:\")\n",
    "print(df_cleaned.head())\n"
   ]
  },
  {
   "cell_type": "code",
   "execution_count": 9,
   "id": "d1053900",
   "metadata": {},
   "outputs": [
    {
     "data": {
      "text/plain": [
       "Benign        156\n",
       "Mallicious     84\n",
       "Name: Label, dtype: int64"
      ]
     },
     "execution_count": 9,
     "metadata": {},
     "output_type": "execute_result"
    }
   ],
   "source": [
    "y_test.value_counts()"
   ]
  },
  {
   "cell_type": "markdown",
   "id": "08ec6a66",
   "metadata": {},
   "source": [
    "# Using D-Tree Classifier "
   ]
  },
  {
   "cell_type": "code",
   "execution_count": 10,
   "id": "c58635a1",
   "metadata": {},
   "outputs": [],
   "source": [
    "from sklearn.tree import DecisionTreeClassifier\n",
    "from sklearn import metrics"
   ]
  },
  {
   "cell_type": "code",
   "execution_count": 12,
   "id": "5b59ceca",
   "metadata": {},
   "outputs": [],
   "source": [
    "from sklearn.tree import DecisionTreeClassifier\n",
    "from sklearn.compose import ColumnTransformer\n",
    "from sklearn.preprocessing import OneHotEncoder, StandardScaler\n",
    "from sklearn.pipeline import Pipeline\n",
    "from sklearn.model_selection import train_test_split\n",
    "\n",
    "categorical_cols = ['Source', 'Destination', 'Protocol']\n",
    "numerical_cols = ['Time', 'Length']\n",
    "\n",
    "\n",
    "preprocessor = ColumnTransformer(\n",
    "    transformers=[\n",
    "        ('num', StandardScaler(), numerical_cols),\n",
    "        ('cat', OneHotEncoder(), categorical_cols)\n",
    "    ]\n",
    ")\n",
    "\n",
    "\n",
    "clf = Pipeline([\n",
    "    ('preprocessor', preprocessor),\n",
    "    ('classifier', DecisionTreeClassifier())\n",
    "])\n",
    "\n",
    "\n",
    "target_variable = df['Label']\n",
    "\n",
    "\n",
    "feature_columns = df.drop('Label', axis=1)\n",
    "\n",
    "\n",
    "df_cleaned = df.dropna()\n",
    "\n",
    "\n",
    "X_train, X_test, y_train, y_test = train_test_split(\n",
    "    df_cleaned.drop('Label', axis=1),\n",
    "    df_cleaned['Label'],  \n",
    "    test_size=0.2,\n",
    "    random_state=42\n",
    ")\n",
    "\n",
    "\n",
    "clf.fit(X_train, y_train)\n",
    "\n",
    "\n",
    "y_pred = clf.predict(X_test)"
   ]
  },
  {
   "cell_type": "code",
   "execution_count": 13,
   "id": "49b49d4c",
   "metadata": {},
   "outputs": [
    {
     "name": "stdout",
     "output_type": "stream",
     "text": [
      "Accuracy: 91.25%\n"
     ]
    }
   ],
   "source": [
    "from sklearn import metrics\n",
    "\n",
    "\n",
    "accuracy = metrics.accuracy_score(y_test, y_pred)\n",
    "\n",
    "print(\"Accuracy: {:.2%}\".format(accuracy))\n"
   ]
  },
  {
   "cell_type": "code",
   "execution_count": 14,
   "id": "df9a3abb",
   "metadata": {},
   "outputs": [
    {
     "name": "stdout",
     "output_type": "stream",
     "text": [
      "Requirement already satisfied: seaborn in c:\\users\\narayanan\\anaconda3\\lib\\site-packages (0.11.2)\n",
      "Requirement already satisfied: scipy>=1.0 in c:\\users\\narayanan\\anaconda3\\lib\\site-packages (from seaborn) (1.7.3)\n",
      "Requirement already satisfied: numpy>=1.15 in c:\\users\\narayanan\\anaconda3\\lib\\site-packages (from seaborn) (1.22.4)\n",
      "Requirement already satisfied: matplotlib>=2.2 in c:\\users\\narayanan\\anaconda3\\lib\\site-packages (from seaborn) (3.5.1)\n",
      "Requirement already satisfied: pandas>=0.23 in c:\\users\\narayanan\\anaconda3\\lib\\site-packages (from seaborn) (1.4.2)\n",
      "Requirement already satisfied: pyparsing>=2.2.1 in c:\\users\\narayanan\\anaconda3\\lib\\site-packages (from matplotlib>=2.2->seaborn) (3.0.4)\n",
      "Requirement already satisfied: pillow>=6.2.0 in c:\\users\\narayanan\\anaconda3\\lib\\site-packages (from matplotlib>=2.2->seaborn) (9.0.1)\n",
      "Requirement already satisfied: cycler>=0.10 in c:\\users\\narayanan\\anaconda3\\lib\\site-packages (from matplotlib>=2.2->seaborn) (0.11.0)\n",
      "Requirement already satisfied: python-dateutil>=2.7 in c:\\users\\narayanan\\anaconda3\\lib\\site-packages (from matplotlib>=2.2->seaborn) (2.8.2)\n",
      "Requirement already satisfied: fonttools>=4.22.0 in c:\\users\\narayanan\\anaconda3\\lib\\site-packages (from matplotlib>=2.2->seaborn) (4.25.0)\n",
      "Requirement already satisfied: kiwisolver>=1.0.1 in c:\\users\\narayanan\\anaconda3\\lib\\site-packages (from matplotlib>=2.2->seaborn) (1.3.2)\n",
      "Requirement already satisfied: packaging>=20.0 in c:\\users\\narayanan\\anaconda3\\lib\\site-packages (from matplotlib>=2.2->seaborn) (21.3)\n",
      "Requirement already satisfied: pytz>=2020.1 in c:\\users\\narayanan\\anaconda3\\lib\\site-packages (from pandas>=0.23->seaborn) (2021.3)\n",
      "Requirement already satisfied: six>=1.5 in c:\\users\\narayanan\\anaconda3\\lib\\site-packages (from python-dateutil>=2.7->matplotlib>=2.2->seaborn) (1.16.0)\n"
     ]
    }
   ],
   "source": [
    "!pip install seaborn"
   ]
  },
  {
   "cell_type": "code",
   "execution_count": 15,
   "id": "e0ba544b",
   "metadata": {},
   "outputs": [
    {
     "data": {
      "image/png": "[encoded data removed]",
      "text/plain": [
       "<Figure size 576x432 with 2 Axes>"
      ]
     },
     "metadata": {
      "needs_background": "light"
     },
     "output_type": "display_data"
    }
   ],
   "source": [
    "import matplotlib.pyplot as plt\n",
    "import seaborn as sns\n",
    "from sklearn.metrics import confusion_matrix\n",
    "\n",
    "cm = confusion_matrix(y_test, y_pred)\n",
    "\n",
    "\n",
    "plt.figure(figsize=(8, 6))\n",
    "sns.heatmap(cm, annot=True, fmt='d', cmap='Blues', xticklabels=clf.classes_, yticklabels=clf.classes_)\n",
    "plt.title('Confusion Matrix')\n",
    "plt.xlabel('Predicted Label')\n",
    "plt.ylabel('True Label')\n",
    "plt.show()\n"
   ]
  },
  {
   "cell_type": "markdown",
   "id": "0a8b7445",
   "metadata": {},
   "source": [
    "# Using Reinforcemnet Learnin(Q-Learning)"
   ]
  },
  {
   "cell_type": "code",
   "execution_count": 16,
   "id": "7aa78f19",
   "metadata": {},
   "outputs": [],
   "source": [
    "import pandas as pd\n",
    "import numpy as np\n",
    "from sklearn.model_selection import train_test_split\n",
    "from sklearn.preprocessing import LabelEncoder"
   ]
  },
  {
   "cell_type": "code",
   "execution_count": 17,
   "id": "a9f76dd1",
   "metadata": {},
   "outputs": [
    {
     "data": {
      "text/html": [
       "<div>\n",
       "<style scoped>\n",
       "    .dataframe tbody tr th:only-of-type {\n",
       "        vertical-align: middle;\n",
       "    }\n",
       "\n",
       "    .dataframe tbody tr th {\n",
       "        vertical-align: top;\n",
       "    }\n",
       "\n",
       "    .dataframe thead th {\n",
       "        text-align: right;\n",
       "    }\n",
       "</style>\n",
       "<table border=\"1\" class=\"dataframe\">\n",
       "  <thead>\n",
       "    <tr style=\"text-align: right;\">\n",
       "      <th></th>\n",
       "      <th>No.</th>\n",
       "      <th>Time</th>\n",
       "      <th>Length</th>\n",
       "      <th>Source</th>\n",
       "      <th>Destination</th>\n",
       "      <th>Protocol</th>\n",
       "      <th>Label</th>\n",
       "      <th>Info</th>\n",
       "    </tr>\n",
       "  </thead>\n",
       "  <tbody>\n",
       "    <tr>\n",
       "      <th>0</th>\n",
       "      <td>1</td>\n",
       "      <td>0.000000</td>\n",
       "      <td>42</td>\n",
       "      <td>PcsCompu_4d:d6:7d</td>\n",
       "      <td>RealtekU_12:35:04</td>\n",
       "      <td>ARP</td>\n",
       "      <td>Benign</td>\n",
       "      <td>10.0.2.3 is at 08:00:27:4d:d6:7d</td>\n",
       "    </tr>\n",
       "    <tr>\n",
       "      <th>1</th>\n",
       "      <td>2</td>\n",
       "      <td>0.000294</td>\n",
       "      <td>42</td>\n",
       "      <td>PcsCompu_4d:d6:7d</td>\n",
       "      <td>RealtekU_12:35:03</td>\n",
       "      <td>ARP</td>\n",
       "      <td>Malicious</td>\n",
       "      <td>10.0.2.4 is at 08:00:27:4d:d6:7d (duplicate us...</td>\n",
       "    </tr>\n",
       "    <tr>\n",
       "      <th>2</th>\n",
       "      <td>3</td>\n",
       "      <td>0.013386</td>\n",
       "      <td>42</td>\n",
       "      <td>PcsCompu_4d:d6:7d</td>\n",
       "      <td>RealtekU_12:35:04</td>\n",
       "      <td>ARP</td>\n",
       "      <td>Benign</td>\n",
       "      <td>10.0.2.2 is at 08:00:27:4d:d6:7d</td>\n",
       "    </tr>\n",
       "    <tr>\n",
       "      <th>3</th>\n",
       "      <td>4</td>\n",
       "      <td>0.014182</td>\n",
       "      <td>42</td>\n",
       "      <td>PcsCompu_4d:d6:7d</td>\n",
       "      <td>RealtekU_12:35:02</td>\n",
       "      <td>ARP</td>\n",
       "      <td>Malicious</td>\n",
       "      <td>10.0.2.4 is at 08:00:27:4d:d6:7d (duplicate us...</td>\n",
       "    </tr>\n",
       "    <tr>\n",
       "      <th>4</th>\n",
       "      <td>5</td>\n",
       "      <td>0.024799</td>\n",
       "      <td>42</td>\n",
       "      <td>PcsCompu_4d:d6:7d</td>\n",
       "      <td>RealtekU_12:35:03</td>\n",
       "      <td>ARP</td>\n",
       "      <td>Malicious</td>\n",
       "      <td>10.0.2.4 is at 08:00:27:4d:d6:7d (duplicate us...</td>\n",
       "    </tr>\n",
       "  </tbody>\n",
       "</table>\n",
       "</div>"
      ],
      "text/plain": [
       "   No.      Time  Length             Source        Destination Protocol  \\\n",
       "0    1  0.000000      42  PcsCompu_4d:d6:7d  RealtekU_12:35:04      ARP   \n",
       "1    2  0.000294      42  PcsCompu_4d:d6:7d  RealtekU_12:35:03      ARP   \n",
       "2    3  0.013386      42  PcsCompu_4d:d6:7d  RealtekU_12:35:04      ARP   \n",
       "3    4  0.014182      42  PcsCompu_4d:d6:7d  RealtekU_12:35:02      ARP   \n",
       "4    5  0.024799      42  PcsCompu_4d:d6:7d  RealtekU_12:35:03      ARP   \n",
       "\n",
       "       Label                                               Info  \n",
       "0     Benign                   10.0.2.3 is at 08:00:27:4d:d6:7d  \n",
       "1  Malicious  10.0.2.4 is at 08:00:27:4d:d6:7d (duplicate us...  \n",
       "2     Benign                   10.0.2.2 is at 08:00:27:4d:d6:7d  \n",
       "3  Malicious  10.0.2.4 is at 08:00:27:4d:d6:7d (duplicate us...  \n",
       "4  Malicious  10.0.2.4 is at 08:00:27:4d:d6:7d (duplicate us...  "
      ]
     },
     "execution_count": 17,
     "metadata": {},
     "output_type": "execute_result"
    }
   ],
   "source": [
    "username = 'Narayanan'\n",
    "file_path = f'C:/Users/{username}/Desktop/Engineering/7th SEM/Mini Project/Spoofing_Test.csv'\n",
    "\n",
    "df = pd.read_csv(file_path)\n",
    "\n",
    "df.head()"
   ]
  },
  {
   "cell_type": "code",
   "execution_count": 18,
   "id": "2f784a1d",
   "metadata": {},
   "outputs": [
    {
     "name": "stdout",
     "output_type": "stream",
     "text": [
      "Accuracy: 95.42%\n"
     ]
    }
   ],
   "source": [
    "import pandas as pd\n",
    "import numpy as np\n",
    "\n",
    "class QLearning:\n",
    "    def __init__(self, n_actions, alpha=0.1, gamma=0.9, epsilon=0.1):\n",
    "        self.q_table = np.zeros((0, n_actions))\n",
    "        self.alpha = alpha\n",
    "        self.gamma = gamma\n",
    "        self.epsilon = epsilon\n",
    "        self.state_dict = {}  \n",
    "        self.action_dict = {}  \n",
    "\n",
    "    def get_state_index(self, state):\n",
    "        state_str = str(state)\n",
    "        if state_str not in self.state_dict:\n",
    "            self.state_dict[state_str] = len(self.state_dict)\n",
    "            self.q_table = np.vstack([self.q_table, np.zeros((1, self.q_table.shape[1]))])\n",
    "        return self.state_dict[state_str]\n",
    "\n",
    "    def get_action_index(self, action):\n",
    "        if action not in self.action_dict:\n",
    "            self.action_dict[action] = len(self.action_dict)\n",
    "        return self.action_dict[action]\n",
    "\n",
    "    def choose_action(self, state):\n",
    "        state_index = self.get_state_index(state)\n",
    "        if np.random.uniform(0, 1) < self.epsilon:\n",
    "            return np.random.choice(self.q_table.shape[1])\n",
    "        else:\n",
    "            return np.argmax(self.q_table[state_index, :])\n",
    "\n",
    "    def update_q_table(self, state, action, reward, next_state):\n",
    "        next_state_index = self.get_state_index(next_state)\n",
    "        state_index = self.get_state_index(state)\n",
    "        action_index = self.get_action_index(action)\n",
    "\n",
    "        predict = self.q_table[state_index, action_index]\n",
    "        target = reward + self.gamma * np.max(self.q_table[next_state_index, :])\n",
    "        self.q_table[state_index, action_index] += self.alpha * (target - predict)\n",
    "\n",
    "\n",
    "\n",
    "\n",
    "features = df.drop(['No.', 'Time', 'Label'], axis=1)  \n",
    "labels = df['Label']\n",
    "\n",
    "\n",
    "n_actions = len(labels.unique())\n",
    "\n",
    "\n",
    "q_learning_model = QLearning(n_actions)\n",
    "\n",
    "for i in range(len(features) - 1):\n",
    "    state = features.iloc[i]\n",
    "    action = labels.iloc[i]  \n",
    "    reward = 1 if action == 'Malicious' else 0  \n",
    "    next_state = features.iloc[i + 1]\n",
    "\n",
    "    q_learning_model.update_q_table(state, action, reward, next_state)\n",
    "\n",
    "\n",
    "correct_predictions = 0\n",
    "\n",
    "for i in range(len(features) - 1):\n",
    "    state = features.iloc[i]\n",
    "    expected_action = labels.iloc[i]\n",
    "\n",
    "    predicted_action = q_learning_model.choose_action(state)\n",
    "\n",
    "    if predicted_action == q_learning_model.get_action_index(expected_action):\n",
    "        correct_predictions += 1\n",
    "\n",
    "accuracy = correct_predictions / len(features)\n",
    "print(f\"Accuracy: {accuracy * 100:.2f}%\")"
   ]
  },
  {
   "cell_type": "code",
   "execution_count": 19,
   "id": "fb203531",
   "metadata": {},
   "outputs": [
    {
     "data": {
      "image/png": "[encoded data removed]",
      "text/plain": [
       "<Figure size 720x432 with 1 Axes>"
      ]
     },
     "metadata": {
      "needs_background": "light"
     },
     "output_type": "display_data"
    }
   ],
   "source": [
    "import matplotlib.pyplot as plt\n",
    "import numpy as np\n",
    "\n",
    "\n",
    "\n",
    "predicted_actions = []\n",
    "actual_actions = []\n",
    "\n",
    "\n",
    "for i in range(len(features) - 1):\n",
    "    state = features.iloc[i]\n",
    "    expected_action = labels.iloc[i]\n",
    "\n",
    "    predicted_action_index = q_learning_model.choose_action(state)\n",
    "    predicted_action = list(q_learning_model.action_dict.keys())[predicted_action_index]\n",
    "\n",
    "    predicted_actions.append(predicted_action)\n",
    "    actual_actions.append(expected_action)\n",
    "\n",
    "fig, ax = plt.subplots(figsize=(10, 6))\n",
    "\n",
    "x = np.arange(len(predicted_actions))\n",
    "\n",
    "ax.plot(x, [q_learning_model.get_action_index(action) for action in predicted_actions], label='Predicted Actions', marker='o')\n",
    "ax.plot(x, [q_learning_model.get_action_index(action) for action in actual_actions], label='Actual Actions', marker='x')\n",
    "\n",
    "ax.set_xlabel('Data Points')\n",
    "ax.set_ylabel('Action Index')\n",
    "ax.set_title('Q-learning Model Predictions vs Actual Actions')\n",
    "ax.legend()\n",
    "\n",
    "plt.show()\n"
   ]
  },
  {
   "cell_type": "code",
   "execution_count": 23,
   "id": "e86a0ddb",
   "metadata": {},
   "outputs": [
    {
     "data": {
      "image/png": "[encoded data removed]",
      "text/plain": [
       "<Figure size 720x432 with 1 Axes>"
      ]
     },
     "metadata": {
      "needs_background": "light"
     },
     "output_type": "display_data"
    }
   ],
   "source": [
    "import matplotlib.pyplot as plt\n",
    "import numpy as np\n",
    "\n",
    "average_q_values = []\n",
    "\n",
    "for i in range(len(features) - 1):\n",
    "    state = features.iloc[i]\n",
    "    expected_action = labels.iloc[i]\n",
    "\n",
    "    state_index = q_learning_model.get_state_index(state)\n",
    "    average_q_value = np.mean(q_learning_model.q_table[state_index, :])\n",
    "\n",
    "    average_q_values.append(average_q_value)\n",
    "\n",
    "plt.figure(figsize=(10, 6))\n",
    "plt.plot(range(len(average_q_values)), average_q_values, label='Average Q-values')\n",
    "plt.xlabel('Time')\n",
    "plt.ylabel('Average Q-value')\n",
    "plt.title('Evolution of Average Q-values Over Time')\n",
    "plt.legend()\n",
    "plt.show()\n"
   ]
  },
  {
   "cell_type": "code",
   "execution_count": 21,
   "id": "60bb9356",
   "metadata": {},
   "outputs": [
    {
     "data": {
      "image/png": "[encoded data removed]",
      "text/plain": [
       "<Figure size 720x432 with 1 Axes>"
      ]
     },
     "metadata": {
      "needs_background": "light"
     },
     "output_type": "display_data"
    }
   ],
   "source": [
    "import matplotlib.pyplot as plt\n",
    "import numpy as np\n",
    "\n",
    "accuracy_list = []\n",
    "epochs = []\n",
    "\n",
    "\n",
    "for i in range(len(features) - 1):\n",
    "    state = features.iloc[i]\n",
    "    action = labels.iloc[i] \n",
    "    reward = 1 if action == 'Malicious' else 0 \n",
    "    next_state = features.iloc[i + 1]\n",
    "\n",
    "    q_learning_model.update_q_table(state, action, reward, next_state)\n",
    "\n",
    "\n",
    "    if i % 10 == 0:\n",
    "        correct_predictions = 0\n",
    "\n",
    "        for j in range(len(features) - 1):\n",
    "            state = features.iloc[j]\n",
    "            expected_action = labels.iloc[j]\n",
    "\n",
    "            predicted_action = q_learning_model.choose_action(state)\n",
    "\n",
    "            if predicted_action == q_learning_model.get_action_index(expected_action):\n",
    "                correct_predictions += 1\n",
    "\n",
    "        accuracy = correct_predictions / len(features)\n",
    "        accuracy_list.append(accuracy)\n",
    "        epochs.append(i)\n",
    "\n",
    "\n",
    "plt.figure(figsize=(10, 6))\n",
    "plt.plot(epochs, accuracy_list, label='Accuracy')\n",
    "plt.xlabel('Epochs')\n",
    "plt.ylabel('Accuracy')\n",
    "plt.title('Accuracy Over Training Epochs')\n",
    "plt.legend()\n",
    "plt.show()\n"
   ]
  }
 ],
 "metadata": {
  "kernelspec": {
   "display_name": "Python 3 (ipykernel)",
   "language": "python",
   "name": "python3"
  },
  "language_info": {
   "codemirror_mode": {
    "name": "ipython",
    "version": 3
   },
   "file_extension": ".py",
   "mimetype": "text/x-python",
   "name": "python",
   "nbconvert_exporter": "python",
   "pygments_lexer": "ipython3",
   "version": "3.9.12"
  }
 },
 "nbformat": 4,
 "nbformat_minor": 5
}
